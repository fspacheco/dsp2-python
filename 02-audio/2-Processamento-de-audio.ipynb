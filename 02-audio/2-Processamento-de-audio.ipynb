{
 "cells": [
  {
   "cell_type": "markdown",
   "metadata": {},
   "source": [
    "# Atividade 2: Processamento de Áudio com Python"
   ]
  },
  {
   "cell_type": "markdown",
   "metadata": {},
   "source": [
    "1) Criar uma função para gerar um tom senoidal.\n",
    "\n",
    "Parâmetros de entrada: frequência (Hz), duração (s), amplitude (0 a 1) e frequência de amostragem (Hz).\n",
    "\n",
    "Verfique se a frequência da saída está correta medindo um período do sinal."
   ]
  },
  {
   "cell_type": "code",
   "execution_count": null,
   "metadata": {},
   "outputs": [],
   "source": [
    "s440 = tonegen(80, 0.1, 0.8, 8000)\n",
    "plt.plot(s440,'bo', s440, 'k')"
   ]
  },
  {
   "cell_type": "markdown",
   "metadata": {},
   "source": [
    "2) Criar uma função no Matlab que receba um vetor com uma sequência de dígitos e gere tons DTMF correspondentes. Os parâmetros de entrada da função são: sequência de dígitos, duração em segundos de cada dígito, intervalo em segundos entre cada dígito e amplitude (0 a 1). O sinal de saída deve ter frequência de amostragem de 8 kHz.\n",
    "\n",
    "Para verificar se o sinal está correto, teste a saída usando um decodificador DTMF, como os listados:\n",
    "- online: DialABC http://dialabc.com/sound/\n",
    "- Android DTMF Transceiver https://play.google.com/store/\n",
    "- Android DTMF Decoder https://play.google.com/store/\n",
    "- OcenAudio, em Análise/Detectar tons DTMF"
   ]
  },
  {
   "cell_type": "code",
   "execution_count": null,
   "metadata": {},
   "outputs": [],
   "source": [
    "s981 = dtmfgen(['9', '8', '1', 'A'], 0.1, 40e-3, 0.7)"
   ]
  },
  {
   "cell_type": "markdown",
   "metadata": {},
   "source": [
    "3) Criar uma função para remover uma em cada duas amostras de um sinal, criando um novo sinal que tem somente as amostras de índice ímpar do sinal original."
   ]
  },
  {
   "cell_type": "code",
   "execution_count": null,
   "metadata": {},
   "outputs": [],
   "source": [
    "x=np.array([7, 3, 9, 1, 0, 4])\n",
    "halfsp(x)\n",
    "#resultado esperado: [7, 9, 0]"
   ]
  },
  {
   "cell_type": "markdown",
   "metadata": {},
   "source": [
    "4) Criar uma função para criar um novo sinal que insere uma nova amostra entre cada duas amostras. Essa nova amostra é a média das duas amostras vizinhas."
   ]
  },
  {
   "cell_type": "code",
   "execution_count": null,
   "metadata": {},
   "outputs": [],
   "source": [
    "x=np.array([7, 3, 9, 1, 0, 4])\n",
    "doublesp(x)\n",
    "#[7 5 3 6 9 5 1 0.5 0 2 4]"
   ]
  },
  {
   "cell_type": "markdown",
   "metadata": {},
   "source": [
    "5) Gere um tom de 220 Hz. Aplique a função `halfsp`. Escute o resultado antes e depois da aplicação. O que ocorre na frequência e no tempo? Mostre graficamente o resultado na frequência através da transformada de Fourier (implementada pela função `numpy.fft`)."
   ]
  },
  {
   "cell_type": "markdown",
   "metadata": {},
   "source": [
    "6) Faça a mesma análise no tempo e frequência em relação à função `doublesp`."
   ]
  },
  {
   "cell_type": "markdown",
   "metadata": {},
   "source": [
    "7) Grave um trecho de voz. Depois, observe e escute o resultado do processamento com:\n",
    "- `halfsp`\n",
    "- `doublesp`\n",
    "- `numpy.fliplr`\n",
    "- `numpy.flipud`\n",
    "\n",
    "Apresente os resultados e comente qual o efeito de cada processamento."
   ]
  },
  {
   "cell_type": "markdown",
   "metadata": {},
   "source": [
    "8) Crie uma função no Matlab que gere um modelo discreto de um sinal de eco $s_e(t)=\\alpha s(t-T)$, onde $\\alpha$ é o fator de atenuação, $T$, o atraso (em segundos) e $s(t)$, o sinal original. Assuma que $0 \\leq \\alpha \\leq 1$ e que $T \\geq 0$. O sinal resultante, com eco, é $r(t)=s(t)+s_e(t)$. Gere sinais com eco a partir de uma gravação de voz (teste antes com um ou dois impulsos para verificar seu código). Experimente com diferentes valores de atenuação e atraso (teste, por exemplo, com fator de atenuação de 0,65 e atraso de 250 ms). Qual o impacto sobre o sinal sintetizado?"
   ]
  },
  {
   "cell_type": "markdown",
   "metadata": {},
   "source": [
    "9) Acesse o banco de respostas ao impulso de ambientes em http://www.openairlib.net/auralizationdb. Faça a operação de convolução de um sinal de áudio com uma ou mais respostas de ambientes (certifique-se que as frequências de amostragem são as mesmas) usando `numpy.convolve`. Meça o tempo de processamento para vários tamanhos de resposta, usando uma das formas descritas em https://cmdlinetips.com/2018/01/two-ways-to-compute-executing-time-in-python/. Faça um gráfico do tempo de processamento em função do tamanho da resposta (entre 100 ms e 3 s, com pelo menos 5 pontos)."
   ]
  }
 ],
 "metadata": {
  "kernelspec": {
   "display_name": "Python [conda env:py36]",
   "language": "python",
   "name": "conda-env-py36-py"
  },
  "language_info": {
   "codemirror_mode": {
    "name": "ipython",
    "version": 3
   },
   "file_extension": ".py",
   "mimetype": "text/x-python",
   "name": "python",
   "nbconvert_exporter": "python",
   "pygments_lexer": "ipython3",
   "version": "3.6.5"
  }
 },
 "nbformat": 4,
 "nbformat_minor": 2
}
