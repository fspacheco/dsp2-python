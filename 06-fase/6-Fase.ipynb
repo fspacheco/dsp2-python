{
 "cells": [
  {
   "cell_type": "markdown",
   "metadata": {},
   "source": [
    "# Atividade 6: Efeito da Fase e Sistemas Radar"
   ]
  },
  {
   "cell_type": "markdown",
   "metadata": {},
   "source": [
    "## Sinal de Radar\n",
    "Até o momento, nos preocupamos apenas com a **magnitude** da resposta em frequência de filtros seletores de sinais. Nesta atividade, iremos analisar o efeito da fase.\n",
    "\n",
    "Considere a situação em que um sinal de radar é corrompido por ruído aditivo que ocupa uma banda de frequências distinta daquela do sinal. Para recuperar o sinal de interesse, é necessário aplicar um filtro. Entretanto, como há requisitos temporais a atender para a identificação do tempo de atraso a partir do sinal refletido, é importante que o filtro não distorça o sinal recebido. Isso será explorado nesta atividade."
   ]
  },
  {
   "cell_type": "markdown",
   "metadata": {},
   "source": [
    "## Atraso de Grupo\n",
    "Uma figura de mérito usada para verificar as distorções de fase de um sistema é o atraso de grupo, definido como\n",
    "\n",
    "$\\tau (\\omega) = \\mathrm{grd} [H(e^{j\\omega})] = - \\frac{\\mathrm{d} [\\arg H(e^{j\\omega})]}{\\mathrm{d}\\omega}$\n",
    "\n",
    "Verifique o atraso de grupo do sistema atraso ideal ([[1](#referencias)] p. 168, capítulo 5, Análise no domínio transformado de sistemas LIT, seção 5.1.1, Fase e atraso de grupo da resposta em frequência)."
   ]
  },
  {
   "cell_type": "markdown",
   "metadata": {},
   "source": [
    "A atividade seguinte foi adaptada de [[2](#referencias)]. Carregue o arquivo de dados `gdeldata.mat`. No Python, use a função `loadmat` do módulo `scipy.io` ([documentação](https://docs.scipy.org/doc/scipy/reference/generated/scipy.io.loadmat.html)).\n",
    "\n",
    "Considere o sinal  apresentado no vetor `x1`. Esse sinal será corrompido por ruído aditivo, mostrado, para fins didáticos, no vetor `noise`. Observe a faixa de frequências que o sinal e o ruído ocupam. É possível projetar um filtro que recupere o sinal?"
   ]
  },
  {
   "cell_type": "markdown",
   "metadata": {},
   "source": [
    "## Fase em Filtros FIR e IIR\n",
    "Dois filtros foram projetados. O filtro $H_1(z)$, de resposta finita ao impulso, é representado por sua resposta ao impulso no vetor `h`. Já $H_2(z)$, um filtro IIR, é representado por dois vetores de coeficientes, `a` e `b`. Confirme que os dois filtros apresentam resposta em magnitude que permite a recuperação do sinal de interesse. Sobreponha as respostas de cada filtro em um único gráfico."
   ]
  },
  {
   "cell_type": "markdown",
   "metadata": {},
   "source": [
    "Observe a resposta ao impulso do filtro FIR. É simétrica? Que informação sobre a fase é possível estimar a partir dessa resposta ao impulso? Calcule e mostre o atraso de grupo desse filtro."
   ]
  },
  {
   "cell_type": "markdown",
   "metadata": {},
   "source": [
    "Calcule e mostre o atraso de grupo do filtro IIR."
   ]
  },
  {
   "cell_type": "markdown",
   "metadata": {},
   "source": [
    "Filtre o sinal $x_1(n)$ usando cada um dos filtros. Desenhe e analise os sinais de saída."
   ]
  },
  {
   "cell_type": "markdown",
   "metadata": {},
   "source": [
    "## Distorção de Pulso\n",
    "Filtre o sinal `pulse` com cada um dos filtros. Desenhe e analise os sinais de saída."
   ]
  },
  {
   "cell_type": "markdown",
   "metadata": {},
   "source": [
    "## Remoção de Ruído de um Pulso\n",
    "Filtre o sinal `pnd_1` com cada um dos filtros. Desenhe os sinais de saída e estime o tempo de atraso do pulso de cada um dos sinais resultantes. Explique qual o melhor filtro, FIR ou IIR, para essa aplicação."
   ]
  },
  {
   "cell_type": "markdown",
   "metadata": {},
   "source": [
    "Para uma visão geral gráfica sobre sistemas radar, confira as Figuras 1-1, 1-2 e 1-3 de [[3](#referencias)]. Sobre filtros casados, são interessantes os exemplos de [[4](#referencias)].\n",
    "Entregue os resultados na forma de um Jupyter Notebook, via Moodle, com todo o código, resultados (figuras e arquivos extras, se necessário), análise e conclusões."
   ]
  },
  {
   "cell_type": "markdown",
   "metadata": {},
   "source": [
    "# [Referências](#referencias)\n",
    "\n",
    "[1] Oppenheim, A. V.; Schafer, R. W. Processamento em tempo discreto de sinais. 3. ed. São Paulo:Pearson, 2012.\n",
    "\n",
    "[2] ECE 535 Digital Signal Processing: Matlab Assignment 3: Group Delay, Spring 2001. Disponível em: https://ece.gmu.edu/~kwage/courses/ece535/spr01/matlab/proj3.pdf\n",
    "\n",
    "[3] ROHDE&SCHWARZ Pulsed RADAR signal generation and measurements : Educational Note 1MA234_0e. Disponível em: https://cdn.rohde-schwarz.com/pws/dl_downloads/dl_application/application_notes/1ma234/1MA234_0e_PulsedRadarEduNote.pdf\n",
    "\n",
    "[4] WIKIPEDIA. Matched Filter: Examples. Disponível em: https://en.wikipedia.org/wiki/Matched_filter#Examples"
   ]
  }
 ],
 "metadata": {
  "kernelspec": {
   "display_name": "Python 3",
   "language": "python",
   "name": "python3"
  },
  "language_info": {
   "codemirror_mode": {
    "name": "ipython",
    "version": 3
   },
   "file_extension": ".py",
   "mimetype": "text/x-python",
   "name": "python",
   "nbconvert_exporter": "python",
   "pygments_lexer": "ipython3",
   "version": "3.7.1"
  }
 },
 "nbformat": 4,
 "nbformat_minor": 2
}
