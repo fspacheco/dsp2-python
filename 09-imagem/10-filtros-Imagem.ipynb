{
 "cells": [
  {
   "cell_type": "markdown",
   "metadata": {},
   "source": [
    "# Atividade 10: Filtros em Imagens"
   ]
  },
  {
   "cell_type": "markdown",
   "metadata": {},
   "source": [
    "## Filtros passa-baixas"
   ]
  },
  {
   "cell_type": "markdown",
   "metadata": {},
   "source": [
    "1. Vimos que para filtrar uma imagem, é necessário definir um _kernel_, que nada mais é que a resposta ao impulso do filtro. Considere a imagem [1]. Defina filtros passa-baixas (a) 3x3 e (b) 9x9. Você pode gerar manualmente a matriz (como no exemplo _Blur_ de [2]) ou usar um dos elementos estruturantes (_square_, _disk_, etc.) do módulo _morphology_ do Skimage [3]. Filtre a imagem. A imagem é melhorada com esses filtros?"
   ]
  },
  {
   "cell_type": "markdown",
   "metadata": {},
   "source": [
    "2. Filtre novamente a mesma imagem [1], mas usando um filtro de média bilateral [4]. Explique suas vantagens."
   ]
  },
  {
   "cell_type": "markdown",
   "metadata": {},
   "source": [
    "3. Filtre a mesma imagem [1] com filtro de mediana [5]. A imagem é melhorada? Qual a influência do tamanho do filtro e do formato do elemento estruturante? O filtro de mediana é linear?"
   ]
  },
  {
   "cell_type": "markdown",
   "metadata": {},
   "source": [
    "## Filtros passa-altas"
   ]
  },
  {
   "cell_type": "markdown",
   "metadata": {},
   "source": [
    "4. Considere a imagem [6]. Procure melhorá-la (aguçar os contornos) usando um filtro linear. Você pode usar um filtro passa-altas (como no exemplo _Sharpening_ de [2]) ou a máscara *unsharp_mask* de `skimage.filters` [7]."
   ]
  },
  {
   "cell_type": "markdown",
   "metadata": {},
   "source": [
    "## Detecção de bordas"
   ]
  },
  {
   "cell_type": "markdown",
   "metadata": {},
   "source": [
    "5. Usando um kernel do tipo Sobel ou Canny, identifique as bordas da folha na imagem [8]. Mostre o resultado. Depois, aplique os mesmos parâmetros para a imagem [9]. As bordas são detectadas corretamente? É necessário ajustar os parâmetros?"
   ]
  },
  {
   "cell_type": "markdown",
   "metadata": {},
   "source": [
    "## Transformada circular de Hough"
   ]
  },
  {
   "cell_type": "markdown",
   "metadata": {},
   "source": [
    "6. Estude os exemplos de uso da transformada circular de Hough para detecção de círculos em imagens [10],[11]. Depois, identifique o número de moedas na imagem *Brazilian_coins* [12]. Devido à iluminação, talvez não seja possível identificar corretamente todas.\n"
   ]
  },
  {
   "cell_type": "markdown",
   "metadata": {},
   "source": [
    "## Referências\n",
    "\n",
    "[1] hw3_train.jpg de http://web.stanford.edu/class/ee368/Handouts/Homeworks/HW3/hw3_data.zip\n",
    "\n",
    "[2] https://www.codingame.com/playgrounds/2524/basic-image-manipulation/filtering\n",
    "\n",
    "[3] https://scikit-image.org/docs/dev/api/skimage.morphology.html\n",
    "\n",
    "[4] https://scikit-image.org/docs/dev/auto_examples/applications/plot_rank_filters.html#image-smoothing\n",
    "\n",
    "[5] https://scikit-image.org/docs/dev/auto_examples/applications/plot_rank_filters.html#noise-removal\n",
    "\n",
    "[6] hw3_road_sign_school_blurry.jpg de http://web.stanford.edu/class/ee368/Handouts/Homeworks/HW3/hw3_data.zip\n",
    "\n",
    "[7] https://scikit-image.org/docs/dev/auto_examples/filters/plot_unsharp_mask.html\n",
    "\n",
    "[8] hw3_leaf_training_1.jpg de http://web.stanford.edu/class/ee368/Handouts/Homeworks/HW3/hw3_data.zip\n",
    "\n",
    "[9] hw3_leaf_training_4.jpg de http://web.stanford.edu/class/ee368/Handouts/Homeworks/HW3/hw3_data.zip\n",
    "\n",
    "[10] https://scikit-image.org/docs/dev/auto_examples/edges/plot_circular_elliptical_hough_transform.html\n",
    "\n",
    "[11] https://www.codingame.com/playgrounds/38470/how-to-detect-circles-in-images\n",
    "\n",
    "[12] http://worldcoingallery.com/countries/bg/Brazil.jpg\n"
   ]
  },
  {
   "cell_type": "markdown",
   "metadata": {},
   "source": [
    "## Bibliografia\n",
    "\n",
    "https://scikit-image.org/docs/dev/auto_examples/applications/plot_rank_filters.html#image-smoothing\n",
    "\n",
    "\n",
    "https://www.mathworks.com/help/images/what-is-image-filtering-in-the-spatial-domain.html\n",
    "\n",
    "https://www.mathworks.com/examples/image/mw/images-ex48835658-detect-edges-in-images\n",
    "\n",
    "https://www.mathworks.com/examples/image/mw/images-ex80028725-trace-boundaries-of-objects-in-images\n",
    "\n",
    "https://www.mathworks.com/help/images/ref/imfindcircles.html#examples\n",
    "\n",
    "https://www.mathworks.com/examples/image/community/18507-missing-planes"
   ]
  }
 ],
 "metadata": {
  "kernelspec": {
   "display_name": "Python 3",
   "language": "python",
   "name": "python3"
  },
  "language_info": {
   "codemirror_mode": {
    "name": "ipython",
    "version": 3
   },
   "file_extension": ".py",
   "mimetype": "text/x-python",
   "name": "python",
   "nbconvert_exporter": "python",
   "pygments_lexer": "ipython3",
   "version": "3.7.1"
  }
 },
 "nbformat": 4,
 "nbformat_minor": 2
}
