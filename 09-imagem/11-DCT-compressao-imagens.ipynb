{
 "cells": [
  {
   "cell_type": "markdown",
   "metadata": {},
   "source": [
    "# Atividade 11: DCT e compressão de imagens"
   ]
  },
  {
   "cell_type": "markdown",
   "metadata": {},
   "source": [
    "## DCT unidimensional"
   ]
  },
  {
   "cell_type": "markdown",
   "metadata": {},
   "source": [
    "1. Crie um vetor de 5 elementos, aplique a DCT e a IDCT e verifique que o resultado da transformada inversa é igual ao vetor original."
   ]
  },
  {
   "cell_type": "markdown",
   "metadata": {},
   "source": [
    "## DCT bidimensional"
   ]
  },
  {
   "cell_type": "markdown",
   "metadata": {},
   "source": [
    "2. Defina duas funções, uma para a DCT e outra para a IDCT para sinais **bidimensionais** como em [1]."
   ]
  },
  {
   "cell_type": "markdown",
   "metadata": {},
   "source": [
    "3. Aplique a DCT em uma imagem e mostre-a como uma imagem. Observe em que região se concentra a maior parte da energia."
   ]
  },
  {
   "cell_type": "markdown",
   "metadata": {},
   "source": [
    "## DCT em blocos"
   ]
  },
  {
   "cell_type": "markdown",
   "metadata": {},
   "source": [
    "4. Aplique a DCT não da imagem como um todo, mas em blocos de 8x8 pixels dessa imagem, como segue."
   ]
  },
  {
   "cell_type": "code",
   "execution_count": null,
   "metadata": {},
   "outputs": [],
   "source": [
    "#Fonte: https://inst.eecs.berkeley.edu/~ee123/sp16/Sections/JPEG_DCT_Demo.html\n",
    "imsize = im.shape\n",
    "dct = np.zeros(imsize)\n",
    "\n",
    "# Do 8x8 DCT on image (in-place)\n",
    "for i in r_[:imsize[0]:8]:\n",
    "    for j in r_[:imsize[1]:8]:\n",
    "        dct[i:(i+8),j:(j+8)] = dct2( im[i:(i+8),j:(j+8)] )"
   ]
  },
  {
   "cell_type": "markdown",
   "metadata": {},
   "source": [
    "5. Extraia um dos blocos de 8x8 pixels da imagem de entrada e mostre a 2D DCT deste bloco como imagem (ver a seguir) e como matriz."
   ]
  },
  {
   "cell_type": "code",
   "execution_count": null,
   "metadata": {},
   "outputs": [],
   "source": [
    "pos = 128\n",
    "# Extract a block from image\n",
    "plt.figure()\n",
    "plt.imshow(im[pos:pos+8,pos:pos+8],cmap='gray')\n",
    "plt.title( \"Um bloco 8x8 de uma imagem\")\n",
    "\n",
    "# Display the dct of that block\n",
    "plt.figure()\n",
    "plt.imshow(dct[pos:pos+8,pos:pos+8],cmap='gray',vmax= np.max(dct)*0.01,vmin = 0, extent=[0,pi,pi,0])\n",
    "plt.title( \"DCT do bloco 8x8\")"
   ]
  },
  {
   "cell_type": "markdown",
   "metadata": {},
   "source": [
    "6. Mostre a imagem da DCT dos blocos."
   ]
  },
  {
   "cell_type": "code",
   "execution_count": null,
   "metadata": {},
   "outputs": [],
   "source": [
    "# Display entire DCT\n",
    "plt.figure()\n",
    "plt.imshow(dct,cmap='gray',vmax = np.max(dct)*0.01,vmin = 0)\n",
    "plt.title( \"DCTs 8x8 da imagem\")"
   ]
  },
  {
   "cell_type": "markdown",
   "metadata": {},
   "source": [
    "## Limiarização"
   ]
  },
  {
   "cell_type": "markdown",
   "metadata": {},
   "source": [
    "7. Aplique um limiar aos coeficientes da DCT e depois reconstrua a imagem com a IDCT. "
   ]
  },
  {
   "cell_type": "code",
   "execution_count": null,
   "metadata": {},
   "outputs": [],
   "source": [
    "# Limiar (Threshold)\n",
    "thresh = 0.012\n",
    "dct_thresh = dct * (abs(dct) > (thresh*np.max(dct)))\n",
    "\n",
    "\n",
    "plt.figure()\n",
    "plt.imshow(dct_thresh,cmap='gray',vmax = np.max(dct)*0.01,vmin = 0)\n",
    "plt.title( \"DCTs 8x8 com limiar\")\n",
    "\n",
    "percent_nonzeros = np.sum( dct_thresh != 0.0 ) / (imsize[0]*imsize[1]*1.0)\n",
    "\n",
    "print \"Mantendo somente %f%% dos coeficientes da DCT\" % (percent_nonzeros*100.0)"
   ]
  },
  {
   "cell_type": "markdown",
   "metadata": {},
   "source": [
    "8. Compare a imagem reconstruída com a imagem original, mostrando-as lado a lado."
   ]
  },
  {
   "cell_type": "markdown",
   "metadata": {},
   "source": [
    "## Comparação com DFT"
   ]
  },
  {
   "cell_type": "markdown",
   "metadata": {},
   "source": [
    "9. Compare os resultados da DCT com os da DFT. Comente."
   ]
  },
  {
   "cell_type": "code",
   "execution_count": null,
   "metadata": {},
   "outputs": [],
   "source": [
    "dft = zeros(imsize,dtype='complex');\n",
    "im_dft = zeros(imsize,dtype='complex');\n",
    "\n",
    "# 8x8 DFT\n",
    "for i in r_[:imsize[0]:8]:\n",
    "    for j in r_[:imsize[1]:8]:\n",
    "        dft[i:(i+8),j:(j+8)] = np.fft.fft2( im[i:(i+8),j:(j+8)] )\n",
    "\n",
    "# Thresh\n",
    "thresh = 0.013\n",
    "dft_thresh = dft * (abs(dft) > (thresh*np.max(abs(dft))))\n",
    "\n",
    "\n",
    "percent_nonzeros_dft = np.sum( dft_thresh != 0.0 ) / (imsize[0]*imsize[1]*1.0)\n",
    "print \"Mantendo somente %f%% dos coeficientes da DCT\" % (percent_nonzeros*100.0)\n",
    "print \"Mantendo somente %f%% dos coeficientes da DFT\" % (percent_nonzeros_dft*100.0)\n",
    "\n",
    "# 8x8 iDFT\n",
    "for i in r_[:imsize[0]:8]:\n",
    "    for j in r_[:imsize[1]:8]:\n",
    "        im_dft[i:(i+8),j:(j+8)] = np.fft.ifft2( dft_thresh[i:(i+8),j:(j+8)] )\n",
    "        \n",
    "        \n",
    "plt.figure()\n",
    "plt.imshow( np.hstack( (im, im_dct, abs(im_dft)) ) ,cmap='gray')\n",
    "plt.title(\"Comparação entre imagens original, comprimida com DCT e comprimida com DFT\" )\n",
    "        "
   ]
  },
  {
   "cell_type": "markdown",
   "metadata": {},
   "source": [
    "10. Altere o limiar para emular uma maior ou menor taxa de compressão. Compare as imagens resultantes com a original."
   ]
  },
  {
   "cell_type": "markdown",
   "metadata": {},
   "source": [
    "11. Analise o exemplo de [2] e os resultados em [3]."
   ]
  },
  {
   "cell_type": "markdown",
   "metadata": {},
   "source": [
    "## Referências\n",
    "\n",
    "[1] https://inst.eecs.berkeley.edu/~ee123/sp16/Sections/JPEG_DCT_Demo.html\n",
    "\n",
    "[2] https://en.wikipedia.org/wiki/JPEG#Discrete_cosine_transform\n",
    "\n",
    "[3] https://en.wikipedia.org/wiki/JPEG#Effects_of_JPEG_compression"
   ]
  },
  {
   "cell_type": "markdown",
   "metadata": {},
   "source": [
    "## Bibliografia\n",
    "\n",
    "BURGER, Wilhelm, BURGE, Mark J. Principles of Digital Image Processing: Core Algorithms. Springer, 2009. (Série: Undergraduate Topics in Computer Science)."
   ]
  }
 ],
 "metadata": {
  "kernelspec": {
   "display_name": "Python 3",
   "language": "python",
   "name": "python3"
  },
  "language_info": {
   "codemirror_mode": {
    "name": "ipython",
    "version": 3
   },
   "file_extension": ".py",
   "mimetype": "text/x-python",
   "name": "python",
   "nbconvert_exporter": "python",
   "pygments_lexer": "ipython3",
   "version": "3.7.1"
  }
 },
 "nbformat": 4,
 "nbformat_minor": 2
}
