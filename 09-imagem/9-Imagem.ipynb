{
 "cells": [
  {
   "cell_type": "markdown",
   "metadata": {},
   "source": [
    "# Atividade 9: Histograma e Binarização de Imagens"
   ]
  },
  {
   "cell_type": "markdown",
   "metadata": {},
   "source": [
    "Nos itens seguintes, quando solicitado a mostrar a imagem resultante, use `imshowpair` [1] para mostrá-la lado a lado com a imagem original."
   ]
  },
  {
   "cell_type": "markdown",
   "metadata": {},
   "source": [
    "## Histograma"
   ]
  },
  {
   "cell_type": "markdown",
   "metadata": {},
   "source": [
    "1. O que é o histograma de uma imagem?"
   ]
  },
  {
   "cell_type": "markdown",
   "metadata": {},
   "source": [
    "2. Na imagem _fingerprint_ [2], é possível distinguir o fundo e a impressão digital observando o histograma?"
   ]
  },
  {
   "cell_type": "markdown",
   "metadata": {},
   "source": [
    "## Binarização"
   ]
  },
  {
   "cell_type": "markdown",
   "metadata": {},
   "source": [
    "3. Qual limite poderia ser usado para binarizar a imagem _fingerprint_? Observe e apresente o histograma, teste e mostre a imagem binarizada resultante lado a lado com a imagem original usando `imshowpair`."
   ]
  },
  {
   "cell_type": "markdown",
   "metadata": {},
   "source": [
    "4. De forma semelhante, que limite poderia ser usado para binarizar a imagem _darkerforeground_ [3]? Mostre o resultado."
   ]
  },
  {
   "cell_type": "markdown",
   "metadata": {},
   "source": [
    "5. Verifique que a binarização global da imagem _darkerforeground_ [3] não provê um bom resultado. Use um limiar adaptativo (`threshold_local` no módulo _Scikit Image_ a partir da versão 0.13 [4] e mostre o resultado."
   ]
  },
  {
   "cell_type": "markdown",
   "metadata": {},
   "source": [
    "6. Observe o histograma da imagem _pout_ [5]. O que você pode concluir?"
   ]
  },
  {
   "cell_type": "markdown",
   "metadata": {},
   "source": [
    "## Equalização de histograma"
   ]
  },
  {
   "cell_type": "markdown",
   "metadata": {},
   "source": [
    "7. Compare as técnicas de equalização de histograma implementadas nas funções `rescale_intensity`, `equalize_hist` e `equalize_adapthist` do _Scikit Image_ [6] , usando a imagem _pout_ [5] como teste. Pesquise as referências apresentadas na documentação de cada uma das funções e explique as diferenças entre elas."
   ]
  },
  {
   "cell_type": "markdown",
   "metadata": {},
   "source": [
    "8. De forma semelhante, aplique uma das técnicas de equalização de histograma para realçar a imagem _dentalradiograph_ [7]."
   ]
  },
  {
   "cell_type": "markdown",
   "metadata": {},
   "source": [
    "## Introdução a filtros em imagens"
   ]
  },
  {
   "cell_type": "markdown",
   "metadata": {},
   "source": [
    "9. A imagem _compareresults_ [8] foi corrompida com ruído do tipo sal e pimenta (_salt and pepper noise_). Use um filtro de média (`rank.mean` [9] de `skimage.filters`) para melhorá-la. Qual o resultado?"
   ]
  },
  {
   "cell_type": "markdown",
   "metadata": {},
   "source": [
    "10. Use, agora, um filtro de mediana (`skimage.filters.rank.median` [10]) para melhorar a imagem _compareresults_ [8]. Qual o resultado? O que é a mediana e por que um filtro desse tipo é melhor para esse caso?"
   ]
  },
  {
   "cell_type": "markdown",
   "metadata": {},
   "source": [
    "## Referências\n",
    "[1] https://pypi.org/project/imshowpair/\n",
    "\n",
    "[2] http://fmwconcepts.com/imagemagick/otsuthresh/images/fingerprint.jpg\n",
    "\n",
    "[3] https://www.mathworks.com/help/examples/images/win64/BinarizeImagesWithDarkerForegroundThanBackgroundExample_01.png\n",
    "\n",
    "[4] https://scikit-image.org/docs/stable/auto_examples/applications/plot_thresholding.html\n",
    "\n",
    "[5] http://www.johnloomis.org/ece563/notes/enhancement/scale/pout.jpg\n",
    "\n",
    "[6] https://scikit-image.org/docs/dev/auto_examples/color_exposure/plot_equalize.html\n",
    "\n",
    "[7] https://imagej.nih.gov/ij/images/DentalRadiograph.png\n",
    "\n",
    "[8] http://www.mathworks.com/help/releases/R2016b/examples/images/CompareResultsOfAveragingFilterAndMedianFilterExample_02.png\n",
    "\n",
    "[9] https://scikit-image.org/docs/stable/auto_examples/filters/plot_rank_mean.html\n",
    "\n",
    "[10] https://scikit-image.org/docs/stable/auto_examples/applications/plot_rank_filters.html#noise-removal"
   ]
  },
  {
   "cell_type": "markdown",
   "metadata": {},
   "source": [
    "## Bibliografia\n",
    "\n",
    "https://www.mathworks.com/examples/image/mw/images-ex28564424-create-image-histogram\n",
    "\n",
    "https://www.mathworks.com/examples/image/mw/images-ex57959084-basic-image-enhancement-and-analysis-techniques\n",
    "\n",
    "http://www.mathworks.com/help/images/ref/imbinarize.html\n",
    "\n",
    "http://blogs.mathworks.com/steve/2016/06/14/image-binarization-otsus-method\n",
    "\n",
    "https://www.mathworks.com/examples/image/mw/images-ex97343802-contrast-enhancement-techniques\n",
    "\n",
    "https://www.mathworks.com/examples/image/mw/images-ex74217292-remove-noise-using-an-averaging-filter-and-a-median-filter\n",
    "\n",
    "https://www.mathworks.com/examples/image/mw/images-ex48835658-detect-edges-in-images\n",
    "\n",
    "https://www.mathworks.com/examples/image/mw/images-ex80028725-trace-boundaries-of-objects-in-images\n",
    "\n",
    "https://www.mathworks.com/examples/image/mw/images-ex45754758-filter-images-using-predefined-filters\n",
    "\n",
    "https://www.mathworks.com/examples/image/community/18507-missing-planes"
   ]
  }
 ],
 "metadata": {
  "kernelspec": {
   "display_name": "Python 3",
   "language": "python",
   "name": "python3"
  },
  "language_info": {
   "codemirror_mode": {
    "name": "ipython",
    "version": 3
   },
   "file_extension": ".py",
   "mimetype": "text/x-python",
   "name": "python",
   "nbconvert_exporter": "python",
   "pygments_lexer": "ipython3",
   "version": "3.7.1"
  }
 },
 "nbformat": 4,
 "nbformat_minor": 2
}
